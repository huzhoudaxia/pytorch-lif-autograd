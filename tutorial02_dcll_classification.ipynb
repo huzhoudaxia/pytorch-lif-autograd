{
 "cells": [
  {
   "cell_type": "code",
   "execution_count": 11,
   "metadata": {},
   "outputs": [],
   "source": [
    "import torch\n",
    "import snn_utils\n",
    "import pylab as plt\n",
    "device = 'cpu'"
   ]
  },
  {
   "cell_type": "markdown",
   "metadata": {},
   "source": [
    "This is a tutorial for apply a DECOLLE network to a traditional MNIST problem usingwith local errors. The reader is assumed to be familiar with Python and Pytorch. If you need to cite this code, please use <a href=\"arXiv preprint arXiv:1812.10766\">(Kaiser, Mostafa, Neftci, 2019)</a>, bibtex:"
   ]
  },
  {
   "cell_type": "raw",
   "metadata": {},
   "source": [
    "@Article{Kaiser_etal18,\n",
    "author\t\t= {Kaiser, J. and Mostafa, H. and Neftci, E.},\n",
    "booktitle\t= {arXiv preprint},\n",
    "journal\t\t= {arXiv preprint arXiv:1812.10766},\n",
    "link\t\t= {http://arxiv.org/pdf/1812.10766},\n",
    "title\t\t= {Synaptic Plasticity for Deep Continuous Local Learning},\n",
    "year\t\t= {2018},\n",
    "contrib\t\t= {80\\%}\n",
    "}"
   ]
  },
  {
   "cell_type": "markdown",
   "metadata": {},
   "source": [
    "### Loading MNIST data as spiketrains"
   ]
  },
  {
   "cell_type": "markdown",
   "metadata": {},
   "source": [
    "The following function will load the MNIST dataset using torchvision modules. It will download and pre-pre-process the data for faster usage."
   ]
  },
  {
   "cell_type": "code",
   "execution_count": 2,
   "metadata": {},
   "outputs": [
    {
     "name": "stderr",
     "output_type": "stream",
     "text": [
      "Pre-processing dataset: 100%|██████████| 6000/6000 [00:01<00:00, 3903.84it/s]\n",
      "Pre-processing dataset: 100%|██████████| 1000/1000 [00:00<00:00, 3763.13it/s]\n"
     ]
    }
   ],
   "source": [
    "gen_train = snn_utils.get_mnist_loader(100, train=True)\n",
    "gen_test = snn_utils.get_mnist_loader(100, train=False)"
   ]
  },
  {
   "cell_type": "markdown",
   "metadata": {},
   "source": [
    "Because MNIST is an image, we need to transform it into a spiketrain. The function __image2spiketrain__ in snn_utils takes case of this."
   ]
  },
  {
   "cell_type": "code",
   "execution_count": 3,
   "metadata": {},
   "outputs": [],
   "source": [
    "datait = iter(gen_train)\n",
    "raw_input, raw_labels = next(datait)\n",
    "data, labels1h = snn_utils.image2spiketrain(raw_input, raw_labels, max_duration=1000, gain=100)\n",
    "data_t = torch.FloatTensor(data)\n",
    "labels_t = torch.Tensor(labels1h)"
   ]
  },
  {
   "cell_type": "markdown",
   "metadata": {},
   "source": [
    "Let's examine the shape of data:"
   ]
  },
  {
   "cell_type": "code",
   "execution_count": 4,
   "metadata": {},
   "outputs": [
    {
     "data": {
      "text/plain": [
       "(1000, 100, 1, 28, 28)"
      ]
     },
     "execution_count": 4,
     "metadata": {},
     "output_type": "execute_result"
    }
   ],
   "source": [
    "data.shape"
   ]
  },
  {
   "cell_type": "markdown",
   "metadata": {},
   "source": [
    "1000 here corresponds to the number of time setps, 100 is the batchsize, 1 is the number of channels and 28,28 are the height and width, respectively. The last three dimensions will be important when we'll use convolutional or locally connected layers, but for the moment, our network has no structure."
   ]
  },
  {
   "cell_type": "markdown",
   "metadata": {},
   "source": [
    "Here is what one sample looks like"
   ]
  },
  {
   "cell_type": "code",
   "execution_count": 73,
   "metadata": {},
   "outputs": [
    {
     "data": {
      "image/png": "[encoded data removed]",
      "text/plain": [
       "<Figure size 432x288 with 1 Axes>"
      ]
     },
     "metadata": {
      "needs_background": "light"
     },
     "output_type": "display_data"
    },
    {
     "data": {
      "text/plain": [
       "(<matplotlib.axes._subplots.AxesSubplot at 0x7f31c32d0110>, None)"
      ]
     },
     "execution_count": 73,
     "metadata": {},
     "output_type": "execute_result"
    }
   ],
   "source": [
    "snn_utils.plotLIF(U=None,S=data_t[:,0].view(1000,-1).data.numpy())"
   ]
  },
  {
   "cell_type": "markdown",
   "metadata": {},
   "source": [
    "The average reate here is more revealing. Our MNIST input spike trains are simply flattened spiketrains representing the digit image in the firing rates."
   ]
  },
  {
   "cell_type": "code",
   "execution_count": 74,
   "metadata": {},
   "outputs": [
    {
     "data": {
      "text/plain": [
       "<matplotlib.image.AxesImage at 0x7f31c3242b10>"
      ]
     },
     "execution_count": 74,
     "metadata": {},
     "output_type": "execute_result"
    },
    {
     "data": {
      "image/png": "[encoded data removed]",
      "text/plain": [
       "<Figure size 432x288 with 1 Axes>"
      ]
     },
     "metadata": {
      "needs_background": "light"
     },
     "output_type": "display_data"
    }
   ],
   "source": [
    "plt.imshow(data_t[:,0].data.numpy().mean(axis=0)[0])"
   ]
  },
  {
   "cell_type": "markdown",
   "metadata": {},
   "source": [
    "Let's create an iterator function that does all these steps:"
   ]
  },
  {
   "cell_type": "code",
   "execution_count": 75,
   "metadata": {},
   "outputs": [],
   "source": [
    "def iter_mnist(gen_train, batchsize=100, T=1000, max_rate = 100):\n",
    "    datait = iter(gen_train)\n",
    "    for raw_input, raw_labels in datait:\n",
    "        data, labels1h = snn_utils.image2spiketrain(raw_input, raw_labels, max_duration=T, gain=max_rate)\n",
    "        data_t = torch.FloatTensor(data)\n",
    "        labels_t = torch.Tensor(labels1h)\n",
    "        yield data_t, labels_t  "
   ]
  },
  {
   "cell_type": "markdown",
   "metadata": {},
   "source": [
    "### Creating the MNIST Nwtwork"
   ]
  },
  {
   "cell_type": "markdown",
   "metadata": {},
   "source": [
    "We make use of decolle, a python module contains a cleanly written DECOLLE module based on the principles described in tutorial 1. decolle should have been cloned under lib when you clones this repository. (In git terms, it is a submodule)."
   ]
  },
  {
   "cell_type": "code",
   "execution_count": 76,
   "metadata": {},
   "outputs": [],
   "source": [
    "import thirdpartylibs.decolle as decolle\n",
    "from thirdpartylibs.decolle import lenet_decolle_model "
   ]
  },
  {
   "cell_type": "markdown",
   "metadata": {},
   "source": [
    "The following creates a three layer DECOLLE network"
   ]
  },
  {
   "cell_type": "code",
   "execution_count": 77,
   "metadata": {},
   "outputs": [
    {
     "name": "stdout",
     "output_type": "stream",
     "text": [
      "torch.Size([300, 100, 1, 28, 28])\n"
     ]
    }
   ],
   "source": [
    "T = 300 #duration of sequence\n",
    "data, target = next(iter_mnist(gen_train, T=T))\n",
    "print(data.shape)"
   ]
  },
  {
   "cell_type": "code",
   "execution_count": 78,
   "metadata": {},
   "outputs": [],
   "source": [
    "net = lenet_decolle_model.LenetDECOLLE(input_shape = data.shape[2:], Mhid = [150,120], num_conv_layers=0, num_mlp_layers=2).to(device)"
   ]
  },
  {
   "cell_type": "markdown",
   "metadata": {},
   "source": [
    "Let's examine the created network"
   ]
  },
  {
   "cell_type": "code",
   "execution_count": 79,
   "metadata": {},
   "outputs": [
    {
     "data": {
      "text/plain": [
       "LenetDECOLLE(\n",
       "  (LIF_layers): ModuleList(\n",
       "    (0): LIFLayer(\n",
       "      (base_layer): Linear(in_features=784, out_features=150, bias=True)\n",
       "      (layer): Linear(in_features=784, out_features=150, bias=True)\n",
       "    )\n",
       "    (1): LIFLayer(\n",
       "      (base_layer): Linear(in_features=150, out_features=120, bias=True)\n",
       "      (layer): Linear(in_features=150, out_features=120, bias=True)\n",
       "    )\n",
       "  )\n",
       "  (readout_layers): ModuleList(\n",
       "    (0): Linear(in_features=150, out_features=1, bias=True)\n",
       "    (1): Linear(in_features=120, out_features=1, bias=True)\n",
       "  )\n",
       "  (pool_layers): ModuleList(\n",
       "    (0): Sequential()\n",
       "    (1): Sequential()\n",
       "  )\n",
       "  (dropout_layers): ModuleList(\n",
       "    (0): Dropout(p=0.5)\n",
       "    (1): Dropout(p=0.5)\n",
       "  )\n",
       ")"
      ]
     },
     "execution_count": 79,
     "metadata": {},
     "output_type": "execute_result"
    }
   ],
   "source": [
    "net"
   ]
  },
  {
   "cell_type": "markdown",
   "metadata": {},
   "source": [
    "The network consists in 2 LIF layers, 150 and 120 neurons, with a readout layer and dropout layer associated to each. There are no pool_layers here, therefore they are represented as pass through layers (Sequential()). Dropout modules are used for the readout."
   ]
  },
  {
   "cell_type": "markdown",
   "metadata": {},
   "source": [
    "Here we yet set up loss and optimization"
   ]
  },
  {
   "cell_type": "code",
   "execution_count": 80,
   "metadata": {},
   "outputs": [],
   "source": [
    "mse_loss = torch.nn.MSELoss()\n",
    "opt = torch.optim.Adam(net.get_trainable_parameters(), lr=1e-9, betas=[0., .95])\n",
    "\n",
    "def dcll_loss(r, s, tgt):\n",
    "    loss_tv = 0\n",
    "    for i in range(len(r)):\n",
    "        loss_tv += mse_loss(r[i],tgt) + .1*torch.mean(s[i][-1])\n",
    "    return loss_tv"
   ]
  },
  {
   "cell_type": "code",
   "execution_count": null,
   "metadata": {},
   "outputs": [],
   "source": [
    "Initialize the DECOLLE network with the correct batch size. To avoid problems with initialization there is a burnin period where the state variables are allowed to settle. There is a little quirk here in that be need to swap the batch dimension and the timing dimension."
   ]
  },
  {
   "cell_type": "code",
   "execution_count": 81,
   "metadata": {},
   "outputs": [],
   "source": [
    "net.init(data.transpose(0,1), len(net))"
   ]
  },
  {
   "cell_type": "code",
   "execution_count": null,
   "metadata": {},
   "outputs": [],
   "source": [
    "Train the network"
   ]
  },
  {
   "cell_type": "code",
   "execution_count": null,
   "metadata": {},
   "outputs": [
    {
     "name": "stdout",
     "output_type": "stream",
     "text": [
      "0 tensor(0.4368, grad_fn=<AddBackward0>)\n",
      "0 tensor(0.4427, grad_fn=<AddBackward0>)\n",
      "0 tensor(0.4478, grad_fn=<AddBackward0>)\n",
      "0 tensor(0.4242, grad_fn=<AddBackward0>)\n",
      "0 tensor(0.4209, grad_fn=<AddBackward0>)\n"
     ]
    }
   ],
   "source": [
    "for e in range(10):        \n",
    "    for data, label in iter_mnist(gen_train, T=T):\n",
    "        loss_hist = 0\n",
    "        data_d = data.to(device)\n",
    "        label_d = label.to(device)\n",
    "        for n in range(T):\n",
    "            st, rt, ut = net.forward(data_d[n])        \n",
    "            loss_tv = dcll_loss(rt, st, label_d[n])\n",
    "            loss_tv.backward()\n",
    "            opt.step()\n",
    "            opt.zero_grad()\n",
    "        loss_hist += loss_tv\n",
    "        print(e, loss_hist)"
   ]
  },
  {
   "cell_type": "markdown",
   "metadata": {},
   "source": [
    "## Convolutional DECOLLE"
   ]
  },
  {
   "cell_type": "code",
   "execution_count": null,
   "metadata": {},
   "outputs": [],
   "source": [
    "A convolutional DECOLLE network can be obtained by replacing the network generation as follows"
   ]
  },
  {
   "cell_type": "code",
   "execution_count": null,
   "metadata": {},
   "outputs": [],
   "source": [
    "convnet = LenetDECOLLE( out_channels=10,\n",
    "                    Nhid=[32,64], #Number of convolution channels\n",
    "                    Mhid=[128],\n",
    "                    kernel_size=[7],\n",
    "                    pool_size=[2,2],\n",
    "                    input_shape=data.shape[2:],\n",
    "                    alpha=[.95],\n",
    "                    alpharp=[.65],\n",
    "                    beta=[.92],\n",
    "                    num_conv_layers=2,\n",
    "                    num_mlp_layers=1).to(device)"
   ]
  },
  {
   "cell_type": "code",
   "execution_count": 80,
   "metadata": {},
   "outputs": [],
   "source": [
    "opt_conv = torch.optim.Adam(convnet.get_trainable_parameters(), lr=1e-9, betas=[0., .95])"
   ]
  },
  {
   "cell_type": "markdown",
   "metadata": {},
   "source": [
    "Initialize:"
   ]
  },
  {
   "cell_type": "code",
   "execution_count": null,
   "metadata": {},
   "outputs": [],
   "source": [
    "conv_net.init(data.transpose(0,1), len(net))"
   ]
  },
  {
   "cell_type": "markdown",
   "metadata": {},
   "source": [
    "Train the network"
   ]
  },
  {
   "cell_type": "code",
   "execution_count": null,
   "metadata": {},
   "outputs": [
    {
     "name": "stdout",
     "output_type": "stream",
     "text": [
      "0 tensor(0.4368, grad_fn=<AddBackward0>)\n"
     ]
    }
   ],
   "source": [
    "for e in range(10):        \n",
    "    for data, label in iter_mnist(gen_train, T=T):\n",
    "        loss_hist = 0\n",
    "        data_d = data.to(device)\n",
    "        label_d = label.to(device)\n",
    "        for n in range(T):\n",
    "            st, rt, ut = convnet.forward(data_d[n])        \n",
    "            loss_tv = dcll_loss(rt, st, label_d[n])\n",
    "            loss_tv.backward()\n",
    "            opt.step()\n",
    "            opt.zero_grad()\n",
    "        loss_hist += loss_tv\n",
    "        print(e, loss_hist)"
   ]
  }
 ],
 "metadata": {
  "kernelspec": {
   "display_name": "Python 3",
   "language": "python",
   "name": "python3"
  },
  "language_info": {
   "codemirror_mode": {
    "name": "ipython",
    "version": 3
   },
   "file_extension": ".py",
   "mimetype": "text/x-python",
   "name": "python",
   "nbconvert_exporter": "python",
   "pygments_lexer": "ipython3",
   "version": "3.7.4"
  }
 },
 "nbformat": 4,
 "nbformat_minor": 2
}
