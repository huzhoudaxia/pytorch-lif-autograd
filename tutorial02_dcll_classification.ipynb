{
 "cells": [
  {
   "cell_type": "code",
   "execution_count": 1,
   "metadata": {},
   "outputs": [],
   "source": [
    "import torch\n",
    "import snn_utils\n",
    "import pylab as plt\n",
    "device = 'cuda'"
   ]
  },
  {
   "cell_type": "markdown",
   "metadata": {},
   "source": [
    "This is a tutorial for apply a DECOLLE network to a traditional MNIST problem usingwith local errors. The reader is assumed to be familiar with Python and Pytorch. If you need to cite this code, please use <a href=\"arXiv preprint arXiv:1812.10766\">(Kaiser, Mostafa, Neftci, 2019)</a>, bibtex:"
   ]
  },
  {
   "cell_type": "raw",
   "metadata": {},
   "source": [
    "@Article{Kaiser_etal18,\n",
    "author\t\t= {Kaiser, J. and Mostafa, H. and Neftci, E.},\n",
    "booktitle\t= {arXiv preprint},\n",
    "journal\t\t= {arXiv preprint arXiv:1812.10766},\n",
    "link\t\t= {http://arxiv.org/pdf/1812.10766},\n",
    "title\t\t= {Synaptic Plasticity for Deep Continuous Local Learning},\n",
    "year\t\t= {2018},\n",
    "contrib\t\t= {80\\%}\n",
    "}"
   ]
  },
  {
   "cell_type": "markdown",
   "metadata": {},
   "source": [
    "### Loading MNIST data as spiketrains"
   ]
  },
  {
   "cell_type": "markdown",
   "metadata": {},
   "source": [
    "The following function will load the MNIST dataset using torchvision modules. It will download and pre-pre-process the data for faster usage."
   ]
  },
  {
   "cell_type": "code",
   "execution_count": 2,
   "metadata": {},
   "outputs": [],
   "source": [
    "gen_train = snn_utils.get_mnist_loader(100, Nparts=100, train=True)\n",
    "gen_test = snn_utils.get_mnist_loader(100, Nparts=100, train=False)"
   ]
  },
  {
   "cell_type": "markdown",
   "metadata": {},
   "source": [
    "Because MNIST is an image, we need to transform it into a spiketrain. The function __image2spiketrain__ in snn_utils takes case of this."
   ]
  },
  {
   "cell_type": "code",
   "execution_count": 3,
   "metadata": {},
   "outputs": [],
   "source": [
    "datait = iter(gen_train)\n",
    "raw_input, raw_labels = next(datait)\n",
    "data, labels1h = snn_utils.image2spiketrain(raw_input, raw_labels, max_duration=1000, gain=20)\n",
    "data_t = torch.FloatTensor(data)\n",
    "labels_t = torch.Tensor(labels1h)"
   ]
  },
  {
   "cell_type": "markdown",
   "metadata": {},
   "source": [
    "Let's examine the shape of data:"
   ]
  },
  {
   "cell_type": "code",
   "execution_count": 4,
   "metadata": {},
   "outputs": [
    {
     "data": {
      "text/plain": [
       "(1000, 100, 1, 28, 28)"
      ]
     },
     "execution_count": 4,
     "metadata": {},
     "output_type": "execute_result"
    }
   ],
   "source": [
    "data.shape"
   ]
  },
  {
   "cell_type": "markdown",
   "metadata": {},
   "source": [
    "1000 here corresponds to the number of time setps, 100 is the batchsize, 1 is the number of channels and 28,28 are the height and width, respectively. The last three dimensions will be important when we'll use convolutional or locally connected layers, but for the moment, our network has no structure."
   ]
  },
  {
   "cell_type": "markdown",
   "metadata": {},
   "source": [
    "Here is what one sample looks like"
   ]
  },
  {
   "cell_type": "code",
   "execution_count": 5,
   "metadata": {},
   "outputs": [
    {
     "data": {
      "image/png": "[encoded data removed]",
      "text/plain": [
       "<Figure size 432x288 with 1 Axes>"
      ]
     },
     "metadata": {
      "needs_background": "light"
     },
     "output_type": "display_data"
    },
    {
     "data": {
      "text/plain": [
       "(<matplotlib.axes._subplots.AxesSubplot at 0x7f73f3615040>, None)"
      ]
     },
     "execution_count": 5,
     "metadata": {},
     "output_type": "execute_result"
    }
   ],
   "source": [
    "snn_utils.plotLIF(U=None,S=data_t[:,0].view(1000,-1).data.numpy())"
   ]
  },
  {
   "cell_type": "markdown",
   "metadata": {},
   "source": [
    "The average reate here is more revealing. Our MNIST input spike trains are simply flattened spiketrains representing the digit image in the firing rates."
   ]
  },
  {
   "cell_type": "code",
   "execution_count": 6,
   "metadata": {},
   "outputs": [
    {
     "data": {
      "text/plain": [
       "<matplotlib.image.AxesImage at 0x7f73f355cdc0>"
      ]
     },
     "execution_count": 6,
     "metadata": {},
     "output_type": "execute_result"
    },
    {
     "data": {
      "image/png": "[encoded data removed]",
      "text/plain": [
       "<Figure size 432x288 with 1 Axes>"
      ]
     },
     "metadata": {
      "needs_background": "light"
     },
     "output_type": "display_data"
    }
   ],
   "source": [
    "plt.imshow(data_t[:,0].data.numpy().mean(axis=0)[0])"
   ]
  },
  {
   "cell_type": "code",
   "execution_count": 7,
   "metadata": {},
   "outputs": [
    {
     "name": "stdout",
     "output_type": "stream",
     "text": [
      "tensor(1)\n"
     ]
    }
   ],
   "source": [
    "print(labels_t[:,0].argmax(1)[-1])"
   ]
  },
  {
   "cell_type": "markdown",
   "metadata": {},
   "source": [
    "Let's create an iterator function that does all these steps:"
   ]
  },
  {
   "cell_type": "code",
   "execution_count": 8,
   "metadata": {},
   "outputs": [],
   "source": [
    "def iter_mnist(gen_train, batchsize=100, T=1000, max_rate = 20):\n",
    "    datait = iter(gen_train)\n",
    "    for raw_input, raw_labels in datait:\n",
    "        data, labels1h = snn_utils.image2spiketrain(raw_input, raw_labels, max_duration=T, gain=max_rate)\n",
    "        data_t = torch.FloatTensor(data)\n",
    "        labels_t = torch.Tensor(labels1h)\n",
    "        yield data_t, labels_t  "
   ]
  },
  {
   "cell_type": "markdown",
   "metadata": {},
   "source": [
    "### Creating the MNIST Nwtwork"
   ]
  },
  {
   "cell_type": "markdown",
   "metadata": {},
   "source": [
    "We make use of decolle, a python module contains a cleanly written DECOLLE module based on the principles described in tutorial 1. decolle should have been cloned under lib when you clones this repository. (In git terms, it is a submodule). If the decolle module isn't there run commented cell below"
   ]
  },
  {
   "cell_type": "code",
   "execution_count": 9,
   "metadata": {},
   "outputs": [
    {
     "name": "stdout",
     "output_type": "stream",
     "text": [
      "Submodule path 'decolle_public': checked out '62179e23bfea4cbec29d372f665cf2ed8251b935'\n",
      "Entering 'decolle_public'\n",
      "From github.com:nmi-lab/decolle-public\n",
      " * branch            master     -> FETCH_HEAD\n",
      "Updating 62179e2..8d56959\n",
      "Fast-forward\n",
      " .gitignore                                         |   1 \u001b[32m+\u001b[m\n",
      " README.md                                          |  31 \u001b[32m++\u001b[m\n",
      " decolle/base_model.py                              |  94 \u001b[32m+++\u001b[m\u001b[31m--\u001b[m\n",
      " decolle/lenet_decolle_model.py                     |  23 \u001b[32m+\u001b[m\u001b[31m-\u001b[m\n",
      " decolle/lenet_decolle_model_errortriggered.py      | 112 \u001b[32m++++++\u001b[m\n",
      " decolle/lenet_decolle_model_fa.py                  | 139 \u001b[32m++++++++\u001b[m\n",
      " decolle/lenet_delle.py                             |  29 \u001b[32m+\u001b[m\u001b[31m-\u001b[m\n",
      " decolle/snn_utils.py                               | 390 \u001b[32m+++++++++++++++++++++\u001b[m\n",
      " decolle/utils.py                                   | 220 \u001b[32m+++++++++\u001b[m\u001b[31m---\u001b[m\n",
      " pull_files_only.sh                                 |   2 \u001b[32m+\u001b[m\u001b[31m-\u001b[m\n",
      " scripts/parameters/experiment_params.yml           |  34 \u001b[31m--\u001b[m\n",
      " scripts/parameters/params.yml                      |  45 \u001b[32m++\u001b[m\u001b[31m-\u001b[m\n",
      " scripts/parameters/params_delle.yml                |  37 \u001b[31m--\u001b[m\n",
      " .../{params_unittest.yml => params_dvsgesture.yml} |  16 \u001b[32m+\u001b[m\u001b[31m-\u001b[m\n",
      " .../params_dvsgestures_torchneuromorphic.yml       |  52 \u001b[32m+++\u001b[m\n",
      " scripts/parameters/params_nmnist.yml               |  37 \u001b[32m+\u001b[m\u001b[31m-\u001b[m\n",
      " .../parameters/params_ntidigits_errtrig_mlp.yml    |  52 \u001b[31m---\u001b[m\n",
      " scripts/train_lenet_decolle.py                     |  39 \u001b[32m++\u001b[m\u001b[31m-\u001b[m\n",
      " scripts/train_lenet_decolle_error_triggered.py     | 149 \u001b[32m++++++++\u001b[m\n",
      " scripts/train_lenet_decolle_fa.py                  | 134 \u001b[32m+++++++\u001b[m\n",
      " setup.py                                           |   7 \u001b[32m+\u001b[m\u001b[31m-\u001b[m\n",
      " 21 files changed, 1374 insertions(+), 269 deletions(-)\n",
      " create mode 100644 decolle/lenet_decolle_model_errortriggered.py\n",
      " create mode 100644 decolle/lenet_decolle_model_fa.py\n",
      " create mode 100644 decolle/snn_utils.py\n",
      " delete mode 100644 scripts/parameters/experiment_params.yml\n",
      " delete mode 100644 scripts/parameters/params_delle.yml\n",
      " rename scripts/parameters/{params_unittest.yml => params_dvsgesture.yml} (74%)\n",
      " create mode 100644 scripts/parameters/params_dvsgestures_torchneuromorphic.yml\n",
      " delete mode 100644 scripts/parameters/params_ntidigits_errtrig_mlp.yml\n",
      " create mode 100644 scripts/train_lenet_decolle_error_triggered.py\n",
      " create mode 100644 scripts/train_lenet_decolle_fa.py\n"
     ]
    }
   ],
   "source": [
    "!git submodule update --init decolle_public \n",
    "!git submodule foreach git pull origin master"
   ]
  },
  {
   "cell_type": "code",
   "execution_count": 10,
   "metadata": {},
   "outputs": [],
   "source": [
    "import decolle_public.decolle as decolle\n",
    "from decolle_public.decolle import lenet_decolle_model "
   ]
  },
  {
   "cell_type": "markdown",
   "metadata": {},
   "source": [
    "The following creates a three layer DECOLLE network"
   ]
  },
  {
   "cell_type": "code",
   "execution_count": 11,
   "metadata": {},
   "outputs": [
    {
     "name": "stdout",
     "output_type": "stream",
     "text": [
      "torch.Size([300, 100, 1, 28, 28])\n"
     ]
    }
   ],
   "source": [
    "T = 300 #duration of sequence\n",
    "data, target = next(iter_mnist(gen_train, T=T))\n",
    "data = data.to(device)\n",
    "target = target.to(device)\n",
    "print(data.shape)"
   ]
  },
  {
   "cell_type": "code",
   "execution_count": 12,
   "metadata": {},
   "outputs": [],
   "source": [
    "net = lenet_decolle_model.LenetDECOLLE(input_shape = data.shape[2:], Mhid = [150,120], num_conv_layers=0, num_mlp_layers=2, alpha=[.95],beta=[.92], lc_ampl=.5, out_channels=10).to(device)"
   ]
  },
  {
   "cell_type": "markdown",
   "metadata": {},
   "source": [
    "Let's examine the created network"
   ]
  },
  {
   "cell_type": "code",
   "execution_count": 13,
   "metadata": {},
   "outputs": [
    {
     "data": {
      "text/plain": [
       "LenetDECOLLE(\n",
       "  (LIF_layers): ModuleList(\n",
       "    (0): LIFLayer(\n",
       "      (base_layer): Linear(in_features=784, out_features=150, bias=True)\n",
       "    )\n",
       "    (1): LIFLayer(\n",
       "      (base_layer): Linear(in_features=150, out_features=120, bias=True)\n",
       "    )\n",
       "  )\n",
       "  (readout_layers): ModuleList(\n",
       "    (0): Linear(in_features=150, out_features=10, bias=True)\n",
       "    (1): Linear(in_features=120, out_features=10, bias=True)\n",
       "  )\n",
       "  (pool_layers): ModuleList(\n",
       "    (0): Sequential()\n",
       "    (1): Sequential()\n",
       "  )\n",
       "  (dropout_layers): ModuleList(\n",
       "    (0): Dropout(p=0.5, inplace=False)\n",
       "    (1): Dropout(p=0.5, inplace=False)\n",
       "  )\n",
       ")"
      ]
     },
     "execution_count": 13,
     "metadata": {},
     "output_type": "execute_result"
    }
   ],
   "source": [
    "net"
   ]
  },
  {
   "cell_type": "markdown",
   "metadata": {},
   "source": [
    "The network consists in 2 LIF layers, 150 and 120 neurons, with a readout layer and dropout layer associated to each. There are no pool_layers here, therefore they are represented as pass through layers (Sequential()). Dropout modules are used for the readout. Next we set up loss and optimization"
   ]
  },
  {
   "cell_type": "code",
   "execution_count": 14,
   "metadata": {},
   "outputs": [],
   "source": [
    "loss = torch.nn.SmoothL1Loss()\n",
    "opt = torch.optim.Adamax(net.get_trainable_parameters(), lr=1e-8, betas=[0., .95])\n",
    "\n",
    "def decolle_loss(r, s, tgt):\n",
    "    loss_tv = 0\n",
    "    for i in range(len(r)):\n",
    "        loss_tv += loss(r[i],tgt) \n",
    "    return loss_tv"
   ]
  },
  {
   "cell_type": "markdown",
   "metadata": {},
   "source": [
    "Initialize the DECOLLE network with the correct batch size. To avoid problems with initialization there is a burnin period where the state variables are allowed to settle. There is a little quirk here in that be need to swap the batch dimension and the timing dimension."
   ]
  },
  {
   "cell_type": "code",
   "execution_count": 15,
   "metadata": {},
   "outputs": [],
   "source": [
    "net.init(data.transpose(0,1), len(net))"
   ]
  },
  {
   "cell_type": "markdown",
   "metadata": {},
   "source": [
    "Initialize the parameters"
   ]
  },
  {
   "cell_type": "code",
   "execution_count": 16,
   "metadata": {},
   "outputs": [],
   "source": [
    "net.init_parameters(data.transpose(0,1))"
   ]
  },
  {
   "cell_type": "markdown",
   "metadata": {},
   "source": [
    "Train the network. The error is computed at every epoch. The readout is based on total output across the entire sequence. The readout can be improved (see DECOLLE paper)."
   ]
  },
  {
   "cell_type": "code",
   "execution_count": 17,
   "metadata": {},
   "outputs": [
    {
     "name": "stdout",
     "output_type": "stream",
     "text": [
      "Training Error tensor(0.2983)\n",
      "Epoch 0 Loss tensor(24.0427, device='cuda:0')\n",
      "Training Error tensor(0.1617)\n",
      "Epoch 1 Loss tensor(20.5774, device='cuda:0')\n",
      "Training Error tensor(0.1333)\n",
      "Epoch 2 Loss tensor(18.5669, device='cuda:0')\n",
      "Training Error tensor(0.1017)\n",
      "Epoch 3 Loss tensor(18.5628, device='cuda:0')\n",
      "Training Error tensor(0.1150)\n",
      "Epoch 4 Loss tensor(17.9603, device='cuda:0')\n",
      "Training Error tensor(0.1100)\n",
      "Epoch 5 Loss tensor(16.6971, device='cuda:0')\n",
      "Training Error tensor(0.0883)\n",
      "Epoch 6 Loss tensor(15.3596, device='cuda:0')\n",
      "Training Error tensor(0.0900)\n",
      "Epoch 7 Loss tensor(16.1182, device='cuda:0')\n",
      "Training Error tensor(0.0767)\n",
      "Epoch 8 Loss tensor(15.9183, device='cuda:0')\n",
      "Training Error tensor(0.0833)\n",
      "Epoch 9 Loss tensor(15.6708, device='cuda:0')\n"
     ]
    }
   ],
   "source": [
    "for e in range(10):        \n",
    "    error = []\n",
    "    for data, label in iter_mnist(gen_train, T=T):\n",
    "        net.train()\n",
    "        loss_hist = 0\n",
    "        data_d = data.to(device)\n",
    "        label_d = label.to(device)\n",
    "        net.init(data_d.transpose(0,1), burnin=100)\n",
    "        readout = 0\n",
    "        for n in range(T):\n",
    "            st, rt, ut = net.forward(data_d[n])        \n",
    "            loss_tv = decolle_loss(rt, st, label_d[n])\n",
    "            loss_tv.backward()\n",
    "            opt.step()\n",
    "            opt.zero_grad()\n",
    "            loss_hist += loss_tv\n",
    "            readout += rt[-1]\n",
    "        error += (readout.argmax(axis=1)!=label_d[-1].argmax(axis=1)).float()\n",
    "    print('Training Error', torch.mean(torch.Tensor(error)).data)\n",
    "        \n",
    "    print('Epoch', e, 'Loss', loss_hist.data)"
   ]
  },
  {
   "cell_type": "markdown",
   "metadata": {},
   "source": [
    "## Convolutional DECOLLE"
   ]
  },
  {
   "cell_type": "markdown",
   "metadata": {},
   "source": [
    "A convolutional DECOLLE network can be obtained by replacing the network generation as follows"
   ]
  },
  {
   "cell_type": "code",
   "execution_count": 18,
   "metadata": {},
   "outputs": [],
   "source": [
    "convnet = lenet_decolle_model.LenetDECOLLE( out_channels=10,\n",
    "                    Nhid=[16,32], #Number of convolution channels\n",
    "                    Mhid=[64],\n",
    "                    kernel_size=[7],\n",
    "                    pool_size=[2,2],\n",
    "                    input_shape=data.shape[2:],\n",
    "                    alpha=[.95],\n",
    "                    alpharp=[.65],\n",
    "                    beta=[.92],\n",
    "                    num_conv_layers=2,\n",
    "                    num_mlp_layers=1,\n",
    "                    lc_ampl=.5).to(device)"
   ]
  },
  {
   "cell_type": "code",
   "execution_count": 19,
   "metadata": {},
   "outputs": [],
   "source": [
    "data, target = next(iter_mnist(gen_train, T=T))\n",
    "data_d = data.to(device)\n",
    "target_d = target.to(device)\n",
    "convnet.init_parameters(data_d.transpose(0,1))"
   ]
  },
  {
   "cell_type": "code",
   "execution_count": 20,
   "metadata": {},
   "outputs": [],
   "source": [
    "opt_conv = torch.optim.Adamax(convnet.get_trainable_parameters(), lr=1e-9, betas=[0., .95])"
   ]
  },
  {
   "cell_type": "markdown",
   "metadata": {},
   "source": [
    "Train the network"
   ]
  },
  {
   "cell_type": "code",
   "execution_count": null,
   "metadata": {},
   "outputs": [
    {
     "name": "stdout",
     "output_type": "stream",
     "text": [
      "Training Error tensor(0.3883)\n",
      "Epoch 0 Loss tensor(42.2926, device='cuda:0')\n",
      "Training Error tensor(0.1317)\n",
      "Epoch 1 Loss tensor(39.1293, device='cuda:0')\n",
      "Training Error tensor(0.0933)\n",
      "Epoch 2 Loss tensor(36.5215, device='cuda:0')\n",
      "Training Error tensor(0.0817)\n",
      "Epoch 3 Loss tensor(35.7263, device='cuda:0')\n",
      "Training Error tensor(0.0617)\n",
      "Epoch 4 Loss tensor(34.1334, device='cuda:0')\n",
      "Training Error tensor(0.0433)\n",
      "Epoch 5 Loss tensor(34.7060, device='cuda:0')\n",
      "Training Error tensor(0.0383)\n",
      "Epoch 6 Loss tensor(33.5180, device='cuda:0')\n",
      "Training Error tensor(0.0250)\n",
      "Epoch 7 Loss tensor(33.7322, device='cuda:0')\n",
      "Training Error tensor(0.0167)\n",
      "Epoch 8 Loss tensor(31.7986, device='cuda:0')\n"
     ]
    }
   ],
   "source": [
    "for e in range(10):        \n",
    "    error = []\n",
    "    for data, label in iter_mnist(gen_train, T=T):\n",
    "        convnet.train()\n",
    "        loss_hist = 0\n",
    "        data_d = data.to(device)\n",
    "        label_d = label.to(device)\n",
    "        convnet.init(data_d.transpose(0,1), burnin=100)\n",
    "        readout = 0\n",
    "        for n in range(T):\n",
    "            st, rt, ut = convnet.forward(data_d[n])        \n",
    "            loss_tv = decolle_loss(rt, st, label_d[n])\n",
    "            loss_tv.backward()\n",
    "            opt_conv.step()\n",
    "            opt_conv.zero_grad()\n",
    "            loss_hist += loss_tv\n",
    "            readout += rt[-1]\n",
    "        error += (readout.argmax(axis=1)!=label_d[-1].argmax(axis=1)).float()\n",
    "    print('Training Error', torch.mean(torch.Tensor(error)).data)\n",
    "    print('Epoch', e, 'Loss', loss_hist.data)"
   ]
  }
 ],
 "metadata": {
  "kernelspec": {
   "display_name": "Python 3",
   "language": "python",
   "name": "python3"
  },
  "language_info": {
   "codemirror_mode": {
    "name": "ipython",
    "version": 3
   },
   "file_extension": ".py",
   "mimetype": "text/x-python",
   "name": "python",
   "nbconvert_exporter": "python",
   "pygments_lexer": "ipython3",
   "version": "3.8.2"
  }
 },
 "nbformat": 4,
 "nbformat_minor": 4
}
