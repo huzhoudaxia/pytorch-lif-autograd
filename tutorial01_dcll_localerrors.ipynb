{
 "cells": [
  {
   "cell_type": "code",
   "execution_count": 1,
   "metadata": {},
   "outputs": [],
   "source": [
    "import snn_utils\n",
    "import torch.nn as nn\n",
    "from torch.nn import functional as F\n",
    "import torch\n",
    "import numpy as np\n",
    "import pylab as plt\n",
    "device = 'cpu'"
   ]
  },
  {
   "cell_type": "markdown",
   "metadata": {},
   "source": [
    "This is a tutorial for setting up spiking neural networks for learning with local errors. The reader is assumed to be familiar with Python and Pytorch. If you need to cite this code, work, please cite <a href=\"https://arxiv.org/abs/1901.09948\">(Neftci, Mostafa, Zenke, 2019)</a>, bibtex:"
   ]
  },
  {
   "cell_type": "raw",
   "metadata": {},
   "source": [
    "@Article{Neftci_etal19,\n",
    "title\t\t= {Surrogate Gradient Learning in Spiking Neural Networks},\n",
    "author\t\t= {Neftci, Emre O and Mostafa, Hesham and Zenke, Friedemann},\n",
    "link\t\t= {https://arxiv.org/abs/1901.09948},\n",
    "journal\t\t= {Signal Processing Magazine, IEEE},\n",
    "year\t\t= {2019},\n",
    "}"
   ]
  },
  {
   "cell_type": "markdown",
   "metadata": {},
   "source": [
    "## Setting up the LIF network"
   ]
  },
  {
   "cell_type": "markdown",
   "metadata": {},
   "source": [
    "In this tutorial, you will learn how to implement a spiking neural network in PyTorch, set up a learning framework for one layer, and extend this to multiple layers using local errors. The plasticity rules will be derived using PyTorch's autodifferentiation tools. The theory and further background can be found in <a href=\"https://arxiv.org/abs/1811.10766\">(Kaiser, Mostafa, Neftci, 2019)</a> and in <a href=\"https://arxiv.org/abs/1901.09948\">(Neftci, Mostafa, Zenke, 2019)</a>."
   ]
  },
  {
   "cell_type": "markdown",
   "metadata": {},
   "source": [
    "First, let's start by exploring LIF neuron dynamics in PyTorch. In discrete time, the neuron update rule can be written <a href=\"https://arxiv.org/abs/1901.09948\">(Neftci, Mostafa, Zenke, 2019)</a>:"
   ]
  },
  {
   "cell_type": "markdown",
   "metadata": {},
   "source": [
    "$$\n",
    "\\begin{align*}\n",
    "    U_i[n+1] & = \\beta U_i[n] + I_i[n] - S_i[n] \\\\\n",
    "    I_i[n+1] & = \\alpha I_i[n] + \\sum_j W_{ij} S_j[n] + b\n",
    "\\end{align*}\n",
    "$$"
   ]
  },
  {
   "cell_type": "markdown",
   "metadata": {},
   "source": [
    "where $U_i[n]$ is the membrane potential at time step $n$, $\\alpha=\\exp(-\\frac{\\Delta t}{\\tau_{\\mathrm{mem}}})$ and $\\beta=\\exp(-\\frac{\\Delta t}{\\tau_{\\mathrm{syn}}})$ are constants that capture the decay dynamics of states $U$ and $I$ during a $\\Delta t$ timestep ($\\tau_\\mathrm{mem}$ and $\\tau_{syn}$ are the membrane and synaptic time constants, respectively). $W$ here is the connectivity matrix between the neurons and the $i$ and $j$ subscripts indicate the post and presynaptic neuron respectively. When $U_i$ exceeds the firing theshold, the membrane potential is reset and integration continues.\n",
    "Both $U_i$ and $I_i$ act as leaky integrators of the input current $I_i$, which itself is a leaky, weighted integration of the spike train $S_j[n]=\\Theta(U_i)$ where $\\Theta$ denotes the Heaviside step function. In other words, for each incoming spike the synaptic current undergoes a jump of height ${W_{ij}}$ and otherwise decays exponentially with a time constant $\\tau_{\\mathrm{syn}}$. The bias term $b$ above can be interepreseted as a constant current injection.\n"
   ]
  },
  {
   "cell_type": "markdown",
   "metadata": {},
   "source": [
    "In PyTorch, these dynamics can be implemented in a straightfoward way. Let us first define the states. For this we used a named tuple, which is a set where elements can be conveniently identified using names,"
   ]
  },
  {
   "cell_type": "code",
   "execution_count": 2,
   "metadata": {},
   "outputs": [],
   "source": [
    "from collections import namedtuple\n",
    "NeuronState = namedtuple('NeuronState', ['U', 'I', 'S'])"
   ]
  },
  {
   "cell_type": "markdown",
   "metadata": {},
   "source": [
    "where S is a binary vector representing the spiking state of the neuron. "
   ]
  },
  {
   "cell_type": "markdown",
   "metadata": {},
   "source": [
    "Let us now define an initial state for N=10 neurons"
   ]
  },
  {
   "cell_type": "code",
   "execution_count": 3,
   "metadata": {},
   "outputs": [],
   "source": [
    "N=10"
   ]
  },
  {
   "cell_type": "code",
   "execution_count": 4,
   "metadata": {},
   "outputs": [],
   "source": [
    "state = NeuronState(U=torch.zeros(N), I=torch.zeros(N), S=torch.zeros(N))"
   ]
  },
  {
   "cell_type": "markdown",
   "metadata": {},
   "source": [
    "You might be surprised here that S is a tensor of type float. This is because we will leverage existing tensor operations in pytorch that operate on dense vectors. "
   ]
  },
  {
   "cell_type": "markdown",
   "metadata": {},
   "source": [
    "When using GPUs, spike trains can be conveniently (but not so efficiently) represented as a binary vector. The function _spiketrains_ from the snn_utils library creates a Poisson spike, i.e. a spike train of given firing with no spike-to-spike correlations. We make it a float tensor so we can exploit the CUDA libraries and the GPUs high performance on those libraries"
   ]
  },
  {
   "cell_type": "code",
   "execution_count": 5,
   "metadata": {},
   "outputs": [],
   "source": [
    "Sin = torch.FloatTensor(snn_utils.spiketrains(N=10, T=1000, rates = np.ones([10])*5))"
   ]
  },
  {
   "cell_type": "markdown",
   "metadata": {},
   "source": [
    "The following plots the spike train. For the moment, don't worry about the U=None argument, this is because the same function can be used to plot membrane potential traces."
   ]
  },
  {
   "cell_type": "code",
   "execution_count": 6,
   "metadata": {},
   "outputs": [
    {
     "data": {
      "image/png": "[encoded data removed]",
      "text/plain": [
       "<Figure size 432x288 with 1 Axes>"
      ]
     },
     "metadata": {
      "needs_background": "light"
     },
     "output_type": "display_data"
    },
    {
     "data": {
      "text/plain": [
       "(<matplotlib.axes._subplots.AxesSubplot at 0x7f9f6a424510>, None)"
      ]
     },
     "execution_count": 6,
     "metadata": {},
     "output_type": "execute_result"
    }
   ],
   "source": [
    "snn_utils.plotLIF(U=None, S=Sin.data.numpy())"
   ]
  },
  {
   "cell_type": "markdown",
   "metadata": {},
   "source": [
    "Now we're getting ready to define the SNN dynamics. First we need to define the parameters $W$ and $b$"
   ]
  },
  {
   "cell_type": "code",
   "execution_count": 7,
   "metadata": {},
   "outputs": [],
   "source": [
    "weight =  nn.Parameter(torch.zeros(N,N))\n",
    "bias =  nn.Parameter(torch.zeros(N))\n",
    "alpha = float(np.exp(-1e-3/20e-3))\n",
    "beta = float(np.exp(-1e-3/10e-3))"
   ]
  },
  {
   "cell_type": "code",
   "execution_count": 8,
   "metadata": {},
   "outputs": [
    {
     "data": {
      "text/plain": [
       "tensor([ 0.0051,  0.0034,  0.0054,  0.0053,  0.0057, -0.0074,  0.0096, -0.0003,\n",
       "        -0.0081, -0.0058])"
      ]
     },
     "execution_count": 8,
     "metadata": {},
     "output_type": "execute_result"
    }
   ],
   "source": [
    "#Initialize\n",
    "weight.data.uniform_(-.3,.3)\n",
    "bias.data.uniform_(-.01,.01)"
   ]
  },
  {
   "cell_type": "markdown",
   "metadata": {},
   "source": [
    "Let us now define the one step dynamics:"
   ]
  },
  {
   "cell_type": "code",
   "execution_count": 9,
   "metadata": {},
   "outputs": [],
   "source": [
    "def forward(Sin_t, state):\n",
    "    U = alpha*state.U + state.I - state.S\n",
    "    I = beta*state.I + F.linear(Sin_t, weight, bias)\n",
    "    # update the neuronal state\n",
    "    S = (U>0).float()\n",
    "    state = NeuronState(U=U, I=I, S=S)\n",
    "    return state"
   ]
  },
  {
   "cell_type": "code",
   "execution_count": 10,
   "metadata": {},
   "outputs": [],
   "source": [
    "Uprobe = np.empty([1000,N])\n",
    "Iprobe = np.empty([1000,N])\n",
    "Sprobe = np.empty([1000,N])\n",
    "for n in range(1000):\n",
    "    state = forward(Sin[n], state)\n",
    "    Uprobe[n] = state.U.data.numpy()\n",
    "    Iprobe[n] = state.I.data.numpy()\n",
    "    Sprobe[n] = state.S.data.numpy()\n",
    "    \n",
    "    "
   ]
  },
  {
   "cell_type": "code",
   "execution_count": 11,
   "metadata": {},
   "outputs": [
    {
     "data": {
      "image/png": "[encoded data removed]",
      "text/plain": [
       "<Figure size 432x288 with 2 Axes>"
      ]
     },
     "metadata": {
      "needs_background": "light"
     },
     "output_type": "display_data"
    },
    {
     "data": {
      "text/plain": [
       "(<matplotlib.axes._subplots.AxesSubplot at 0x7f9f7f7ef490>,\n",
       " <matplotlib.axes._subplots.AxesSubplot at 0x7f9f6a363c50>)"
      ]
     },
     "execution_count": 11,
     "metadata": {},
     "output_type": "execute_result"
    }
   ],
   "source": [
    "snn_utils.plotLIF(U=Uprobe, S=Sprobe, staggering=5)"
   ]
  },
  {
   "cell_type": "markdown",
   "metadata": {},
   "source": [
    "## Setting up the pyTorch LIF module"
   ]
  },
  {
   "cell_type": "markdown",
   "metadata": {},
   "source": [
    "Now, let's use pytorch Module to encapsulate all these operations and clean up the code. For homogeniety with future code, we'll use in_channels and out_channels as variables names for the number of inputs and the number of neurons, respectively."
   ]
  },
  {
   "cell_type": "code",
   "execution_count": 12,
   "metadata": {},
   "outputs": [],
   "source": [
    "class LIFDensePopulation(nn.Module):\n",
    "    NeuronState = namedtuple('NeuronState', ['U', 'I', 'S'])\n",
    "    def __init__(self, in_channels, out_channels, bias=True, alpha = .9, beta=.85):\n",
    "        super(LIFDensePopulation, self).__init__()        \n",
    "        self.fc_layer = nn.Linear(in_channels, out_channels)\n",
    "        self.in_channels = in_channels\n",
    "        self.out_channels = out_channels\n",
    "        self.alpha = alpha\n",
    "        self.beta = beta\n",
    "        self.state = state = self.NeuronState(U=torch.zeros(1, out_channels),\n",
    "                                              I=torch.zeros(1, out_channels),\n",
    "                                              S=torch.zeros(1, out_channels))\n",
    "        self.fc_layer.weight.data.uniform_(-.3, .3)\n",
    "        self.fc_layer.bias.data.uniform_(-.01, .01)\n",
    "    \n",
    "    def forward(self, Sin_t):\n",
    "        state = self.state\n",
    "        U = alpha*state.U + state.I - state.S\n",
    "        I = beta*state.I + self.fc_layer(Sin_t)\n",
    "        # update the neuronal state\n",
    "        S = (U>0).float()\n",
    "        self.state = NeuronState(U=U, I=I, S=S)\n",
    "        return self.state\n",
    "        "
   ]
  },
  {
   "cell_type": "markdown",
   "metadata": {},
   "source": [
    "We now create a population with 10 inputs and 10 outputs"
   ]
  },
  {
   "cell_type": "code",
   "execution_count": 13,
   "metadata": {},
   "outputs": [],
   "source": [
    "pop1 = LIFDensePopulation(in_channels = 10, out_channels = 10)"
   ]
  },
  {
   "cell_type": "code",
   "execution_count": 14,
   "metadata": {},
   "outputs": [],
   "source": [
    "Uprobe = np.empty([1000,N])\n",
    "Iprobe = np.empty([1000,N])\n",
    "Sprobe = np.empty([1000,N])\n",
    "for n in range(1000):\n",
    "    state = pop1.forward(Sin[n].unsqueeze(0))\n",
    "    Uprobe[n] = state.U.data.numpy()\n",
    "    Iprobe[n] = state.I.data.numpy()\n",
    "    Sprobe[n] = state.S.data.numpy()"
   ]
  },
  {
   "cell_type": "code",
   "execution_count": 15,
   "metadata": {},
   "outputs": [
    {
     "data": {
      "image/png": "[encoded data removed]",
      "text/plain": [
       "<Figure size 432x288 with 2 Axes>"
      ]
     },
     "metadata": {
      "needs_background": "light"
     },
     "output_type": "display_data"
    },
    {
     "data": {
      "text/plain": [
       "(<matplotlib.axes._subplots.AxesSubplot at 0x7f9f6a2bd250>,\n",
       " <matplotlib.axes._subplots.AxesSubplot at 0x7f9f6a280bd0>)"
      ]
     },
     "execution_count": 15,
     "metadata": {},
     "output_type": "execute_result"
    }
   ],
   "source": [
    "snn_utils.plotLIF(U=Uprobe, S=Sprobe, staggering=5)"
   ]
  },
  {
   "cell_type": "markdown",
   "metadata": {},
   "source": [
    "The results look qualitatively the same, which is a good sign."
   ]
  },
  {
   "cell_type": "markdown",
   "metadata": {},
   "source": [
    "## Setting up learning"
   ]
  },
  {
   "cell_type": "markdown",
   "metadata": {},
   "source": [
    "Our spiking neural network is performing as expected, which is nothing interesting at this stage. That is because we didn't set the weights and biases in any particular way. Although there any many ways of setting weights for obtaining a given functionality (see for example the Neural Engineering Framework), our goal here is to train the weights and biases in a data-driven fashion. Let's look at how to train a one-layer network for N-way classification. As discussed in <a href=\"https://arxiv.org/abs/1901.09948\">(Neftci, Mostafa, Zenke, 2019)</a>, the hard threshold non-linearity of the spiking neuron is problematic. There are many ways of avoiding this problem, and we'll start by learning on an artificial output probability. Then, we'll implement a custom activation function that implement the hard threshold in the forward operation, but a smooth (boxcar) function in the backward phase."
   ]
  },
  {
   "cell_type": "markdown",
   "metadata": {},
   "source": [
    "### Setting up synaptic plasticity"
   ]
  },
  {
   "cell_type": "markdown",
   "metadata": {},
   "source": [
    "In order to create a plasticity rule, we will use gradient descent on a well known loss function, the mean-squared error. Since we have N classes, we will represent each class with one output neuron.  The objective is to have the membrane potential of the neurons corresponding to the correct class to be high (=1), otherwise 0. :\n",
    "\n",
    "$$ \n",
    "L = \\sum_n \\sum_{i=1}^{N} (\\sigma(U_i[n]) - \\hat{y}_i[n])^2 \n",
    "$$"
   ]
  },
  {
   "cell_type": "markdown",
   "metadata": {},
   "source": [
    "where $\\sigma$ is the sigmoid function. We're cheating here a bit: the output of the neuron we are training is a smooth sigmoid function of the membrane potential. Let's assume for the moment that the neuron has access to this quantity (we will relax that later)."
   ]
  },
  {
   "cell_type": "markdown",
   "metadata": {},
   "source": [
    "Taking the derivative of $L$ with respect to $W_{ij}$, we get:\n",
    "$$\n",
    "\\frac{\\mathrm{d}}{\\mathrm{d} W_{ij}} L[n] = \\text{error} \\,\\sigma'(U_i[n]) \\frac{\\mathrm{d}}{\\mathrm{d} W_{ij}} U_i[n]\n",
    "$$"
   ]
  },
  {
   "cell_type": "markdown",
   "metadata": {},
   "source": [
    "where $ \\text{error} = \\sigma(U_i[n]) - \\hat{y}_i[n])$. The last term can be computed recursively:\n",
    "$$\n",
    "\\begin{split}\n",
    "\\frac{\\mathrm{d}}{\\mathrm{d} W_{ij}} U_k[n+1] &= \\beta \\frac{\\mathrm{d}}{\\mathrm{d} W_{ij}} U_k[n] + \\frac{\\mathrm{d}}{\\mathrm{d} W_{ij}} I_k[n] - \\frac{\\mathrm{d}}{\\mathrm{d} W_{ij}} S_k[n] \\\\\n",
    "\\frac{\\mathrm{d}}{\\mathrm{d} W_{ij}} I_k[n+1] & = \\alpha \\frac{\\mathrm{d}}{\\mathrm{d} W_{ij}} I_k[n] + \\frac{\\mathrm{d}}{\\mathrm{d} W_{ij}}  \\sum_l W_{kl} S_l[n] \n",
    "\\end{split}\n",
    "$$"
   ]
  },
  {
   "cell_type": "markdown",
   "metadata": {},
   "source": [
    "The recursiveness suggests us to represent $\\frac{\\mathrm{d}}{\\mathrm{d} W_{ij}} U_k[n]$ and $\\frac{\\mathrm{d}}{\\mathrm{d} W_{ij}} I_k[n]$ explicitely. Let's call them P and Q:\n"
   ]
  },
  {
   "cell_type": "markdown",
   "metadata": {},
   "source": [
    "$$\n",
    "\\begin{split}\n",
    "P_{ij}[n+1] &= \\beta P_{ij}[n] + Q_{ij}[n] \\\\\n",
    "Q_{ij}[n+1] &= \\beta Q_{ij}[n] + S_j[n] \\\\\n",
    "\\end{split}\n",
    "$$\n"
   ]
  },
  {
   "cell_type": "markdown",
   "metadata": {},
   "source": [
    "Here we did two things. First, we ignored the term $- \\frac{\\mathrm{d}}{\\mathrm{d} W_{ij}} S_k[n] $, as this term is difficult to calculate (see <a href=\"https://arxiv.org/abs/1901.09948\">(Neftci, Mostafa, Zenke, 2019)</a>), and ignoring it generally improves performance. Second, we assumed a feedforward connectivity, which allows us to equate $i$ and $k$."
   ]
  },
  {
   "cell_type": "markdown",
   "metadata": {},
   "source": [
    "We can also notice that the $i$ index above is unnecessary, since the only external input is indexed by $j$. This allows us to reduce these two equations to the following:\n",
    "$$\n",
    "\\begin{split}\n",
    "P_{j}[n+1] &= \\alpha P_{j}[n] + Q_{j}[n] \\\\\n",
    "Q_{j}[n+1] &= \\beta Q_{j}[n] + S_j[n] \\\\\n",
    "\\end{split}\n",
    "$$"
   ]
  },
  {
   "cell_type": "markdown",
   "metadata": {},
   "source": [
    "And finally we obtain:\n",
    "$$\n",
    "\\frac{\\mathrm{d}}{\\mathrm{d} W_{ij}} L[n] = \\text{error} \\,\\sigma'(U_i[n]) P_j[n]\n",
    "$$"
   ]
  },
  {
   "cell_type": "markdown",
   "metadata": {},
   "source": [
    "This update rule can be used as a synaptic plasticity rule. It is tempting to implement this directly in PyTorch forward function and it would certainly work. However this would not allow us to use autodifferentiation. Its not a big deal here because fully connected layers involve easy operations, but it does become painful when convolutional layers are used. We can use a trick that will make us use the autodifferentiation functionalities. "
   ]
  },
  {
   "cell_type": "markdown",
   "metadata": {},
   "source": [
    "You may notice some familiarity with the equations $P$ and $Q$. These are almost the same as $U$ and $I$. The only difference is that $Q$ does not involve the weights or the biases. But the dynamics for $U$, and $I$ are linear, so whether we weight $Q$ or $S$ comes to the same result. In other words:\n",
    "$$\n",
    "\\begin{split}\n",
    "U_i[n] = \\sum_j W_{ij} P_j[n] + b - R_i[n]\n",
    "\\end{split}\n",
    "$$\n"
   ]
  },
  {
   "cell_type": "markdown",
   "metadata": {},
   "source": [
    "The $R_i$ there is to take the reset and (relative) refractoriness into account. It's dynamics are just like those of $P$.\n",
    "Furthermore, when we take the partial derivative, we end with $P_j[n]$ (we have to be careful that we won't propagate through $R$). This means we can use autodifferentiation. We don't even need to explicitly compute $U$ and $I$ at every timestep. Instead we just compute $P$ and $Q$, and autodifferentiate loss functions of $\\sigma(U_i)$. Sweet! Let's update our module. We'll call it layer since we made an explicit assumption on feed-forward connectivity. I added here a function to facilitate conversion to cuda, even though we won't even get much of an improvement here because we don't use any batches."
   ]
  },
  {
   "cell_type": "code",
   "execution_count": 16,
   "metadata": {},
   "outputs": [],
   "source": [
    "class LIFDenseLayer(nn.Module):\n",
    "    NeuronState = namedtuple('NeuronState', ['P', 'Q', 'R', 'S'])\n",
    "    def __init__(self, in_channels, out_channels, bias=True, alpha = .9, beta=.85):\n",
    "        super(LIFDenseLayer, self).__init__()        \n",
    "        self.fc_layer = nn.Linear(in_channels, out_channels)\n",
    "        self.in_channels = in_channels\n",
    "        self.out_channels = out_channels\n",
    "        self.alpha = alpha\n",
    "        self.beta = beta\n",
    "        self.state = self.NeuronState(P=torch.zeros(1,in_channels),\n",
    "                                      Q=torch.zeros(1,in_channels),\n",
    "                                      R=torch.zeros(1,out_channels),\n",
    "                                      S=torch.zeros(1,out_channels))\n",
    "        self.fc_layer.weight.data.uniform_(-.3, .3)\n",
    "        self.fc_layer.bias.data.uniform_(-.01, .01)\n",
    "        \n",
    "    def cuda(self, device=None):\n",
    "        '''\n",
    "        Handle the transfer of the neuron state to cuda\n",
    "        '''\n",
    "        self = super().cuda(device)\n",
    "        self.state = self.NeuronState(P=self.state.P.cuda(device),\n",
    "                                      Q=self.state.Q.cuda(device),\n",
    "                                      R=self.state.R.cuda(device),\n",
    "                                      S=self.state.S.cuda(device))\n",
    "        return self \n",
    "    \n",
    "    def cpu(self, device=None):\n",
    "        '''\n",
    "        Handle the transfer of the neuron state to cpu\n",
    "        '''\n",
    "        self = super().cpu(device)\n",
    "        self.state = self.NeuronState(P=self.state.P.cpu(device),\n",
    "                                      Q=self.state.Q.cpu(device),\n",
    "                                      R=self.state.R.cpu(device),\n",
    "                                      S=self.state.S.cpu(device))\n",
    "        return self \n",
    "    \n",
    "    def forward(self, Sin_t):\n",
    "        state = self.state\n",
    "        P = alpha*state.P + state.Q\n",
    "        R = alpha*state.R - state.S\n",
    "        Q = beta*state.Q + Sin_t\n",
    "        U = self.fc_layer(P) + R\n",
    "        # update the neuronal state\n",
    "        S = (U>0).float()\n",
    "        #The detach function below avoids the backpropagation of error feedback\n",
    "        self.state = self.NeuronState(P=P.detach(), Q=Q.detach(), R=R.detach(), S=S.detach())\n",
    "        return self.state, U"
   ]
  },
  {
   "cell_type": "code",
   "execution_count": 17,
   "metadata": {},
   "outputs": [],
   "source": [
    "layer1 = LIFDenseLayer(in_channels=N, out_channels=1).to(device)\n",
    "Uprobe = np.empty([1000,1])\n",
    "Pprobe = np.empty([1000,N])\n",
    "Qprobe = np.empty([1000,N])\n",
    "Rprobe = np.empty([1000,1])\n",
    "Sprobe = np.empty([1000,1])\n",
    "for n in range(1000):\n",
    "    state, u = layer1.forward(Sin[n].to(device))\n",
    "    Uprobe[n] = u.clone().data.cpu().numpy()\n",
    "    Pprobe[n] = state.P.clone().data.cpu().numpy()\n",
    "    Qprobe[n] = state.Q.clone().data.cpu().numpy()\n",
    "    Rprobe[n] = state.R.clone().data.cpu().numpy()\n",
    "    Sprobe[n] = state.S.clone().data.cpu().numpy()"
   ]
  },
  {
   "cell_type": "code",
   "execution_count": 18,
   "metadata": {},
   "outputs": [
    {
     "data": {
      "image/png": "[encoded data removed]",
      "text/plain": [
       "<Figure size 432x288 with 2 Axes>"
      ]
     },
     "metadata": {
      "needs_background": "light"
     },
     "output_type": "display_data"
    },
    {
     "data": {
      "text/plain": [
       "[<matplotlib.lines.Line2D at 0x7f9f6a083150>]"
      ]
     },
     "execution_count": 18,
     "metadata": {},
     "output_type": "execute_result"
    },
    {
     "data": {
      "image/png": "[encoded data removed]",
      "text/plain": [
       "<Figure size 432x288 with 1 Axes>"
      ]
     },
     "metadata": {
      "needs_background": "light"
     },
     "output_type": "display_data"
    }
   ],
   "source": [
    "snn_utils.plotLIF(U=Rprobe, S=Sprobe, staggering=5);\n",
    "plt.plot(Rprobe)"
   ]
  },
  {
   "cell_type": "markdown",
   "metadata": {},
   "source": [
    "Now we're in business for learning. Let's ask this one neuron to spike at times $M=[100,200,300]$, i.e. $\\hat{y}[m]=1,\\, \\forall m \\in M$. However, it is difficult to train a neuron in this fashion though, because the neuron's membrane potential cannot follow such a high frequency change. Let's convolve the target with an exponential kernel instead."
   ]
  },
  {
   "cell_type": "code",
   "execution_count": 20,
   "metadata": {},
   "outputs": [],
   "source": [
    "Nin = 100\n",
    "T = 400\n",
    "Sin = torch.FloatTensor(snn_utils.spiketrains(N=Nin, T=T, rates = np.ones([Nin])*25)).to(device)\n",
    "layer1 = LIFDenseLayer(in_channels=Nin, out_channels=1).to(device)"
   ]
  },
  {
   "cell_type": "code",
   "execution_count": 21,
   "metadata": {},
   "outputs": [],
   "source": [
    "yhat = np.zeros(T)\n",
    "yhat[100]=1; yhat[200]=1; yhat[300]=1; \n",
    "yhat = np.convolve(yhat,np.exp(-np.linspace(0,1,100)/.1))\n",
    "yhat_t = torch.FloatTensor(yhat).to(device)"
   ]
  },
  {
   "cell_type": "markdown",
   "metadata": {},
   "source": [
    "Let's plot the target:"
   ]
  },
  {
   "cell_type": "code",
   "execution_count": 22,
   "metadata": {},
   "outputs": [
    {
     "data": {
      "text/plain": [
       "[<matplotlib.lines.Line2D at 0x7f9f68811690>]"
      ]
     },
     "execution_count": 22,
     "metadata": {},
     "output_type": "execute_result"
    },
    {
     "data": {
      "image/png": "[encoded data removed]",
      "text/plain": [
       "<Figure size 432x288 with 1 Axes>"
      ]
     },
     "metadata": {
      "needs_background": "light"
     },
     "output_type": "display_data"
    }
   ],
   "source": [
    "plt.plot(yhat)"
   ]
  },
  {
   "cell_type": "markdown",
   "metadata": {},
   "source": [
    "Now we define the optimizer and the loss functions. We'll use an Adam optimizer to speed up learning."
   ]
  },
  {
   "cell_type": "code",
   "execution_count": 23,
   "metadata": {},
   "outputs": [
    {
     "name": "stderr",
     "output_type": "stream",
     "text": [
      "/usr/lib/python3.7/site-packages/torch/nn/functional.py:1386: UserWarning: nn.functional.sigmoid is deprecated. Use torch.sigmoid instead.\n",
      "  warnings.warn(\"nn.functional.sigmoid is deprecated. Use torch.sigmoid instead.\")\n",
      "/usr/lib/python3.7/site-packages/torch/nn/modules/loss.py:443: UserWarning: Using a target size (torch.Size([])) that is different to the input size (torch.Size([1, 1])). This will likely lead to incorrect results due to broadcasting. Please ensure they have the same size.\n",
      "  return F.mse_loss(input, target, reduction=self.reduction)\n"
     ]
    },
    {
     "name": "stdout",
     "output_type": "stream",
     "text": [
      "0 tensor(25.4671, grad_fn=<AddBackward0>)\n",
      "20 tensor(17.9313, grad_fn=<AddBackward0>)\n",
      "40 tensor(16.4125, grad_fn=<AddBackward0>)\n",
      "60 tensor(16.4005, grad_fn=<AddBackward0>)\n",
      "80 tensor(16.4005, grad_fn=<AddBackward0>)\n",
      "100 tensor(16.4009, grad_fn=<AddBackward0>)\n",
      "120 tensor(16.4058, grad_fn=<AddBackward0>)\n",
      "140 tensor(16.4076, grad_fn=<AddBackward0>)\n",
      "160 tensor(16.6299, grad_fn=<AddBackward0>)\n",
      "180 tensor(18.0040, grad_fn=<AddBackward0>)\n",
      "200 tensor(18.0697, grad_fn=<AddBackward0>)\n",
      "220 tensor(17.6273, grad_fn=<AddBackward0>)\n",
      "240 tensor(17.4980, grad_fn=<AddBackward0>)\n",
      "260 tensor(17.4925, grad_fn=<AddBackward0>)\n",
      "280 tensor(17.3187, grad_fn=<AddBackward0>)\n"
     ]
    }
   ],
   "source": [
    "mse_loss = torch.nn.MSELoss()\n",
    "opt = torch.optim.Adam(layer1.parameters(), lr=1e-5, betas=[0., .95]) #lr is the learning rate \n",
    "\n",
    "for e in range(300):    \n",
    "    loss_hist = 0\n",
    "    for n in range(T):\n",
    "        state, u = layer1.forward(Sin[n].unsqueeze(0))\n",
    "        loss_t = mse_loss(F.sigmoid(u),yhat_t[n])\n",
    "        loss_t.backward()\n",
    "        opt.step()\n",
    "        opt.zero_grad()\n",
    "        loss_hist += loss_t\n",
    "    if (e%20)==0: print(e, loss_hist)"
   ]
  },
  {
   "cell_type": "markdown",
   "metadata": {},
   "source": [
    "After training, let's now test the output of this neuron,. You should see the neuron have a high membrane potential around the trained times, and hopefully (but not necessarily) spiking at the designated times. It may require more epochs to reach the target, but it'll eventually get there. It is also possible that the neuron spikes multiple times since we smoothed the target. "
   ]
  },
  {
   "cell_type": "code",
   "execution_count": null,
   "metadata": {},
   "outputs": [],
   "source": [
    "Sprobe = np.empty([T,1])\n",
    "Uprobe = np.empty([T,1])\n",
    "readProbe = np.empty([T,1])\n",
    "for n in range(T):\n",
    "    state, u = layer1.forward(Sin[n])\n",
    "    Uprobe[n] = u.clone().data.cpu().numpy()\n",
    "    Sprobe[n] = state.S.clone().data.cpu().numpy()\n",
    "    readProbe[n] = F.sigmoid(u).data.numpy()\n",
    "snn_utils.plotLIF(U=readProbe, S=Sprobe);"
   ]
  },
  {
   "cell_type": "markdown",
   "metadata": {},
   "source": [
    "## Training with fixed, random readouts"
   ]
  },
  {
   "cell_type": "markdown",
   "metadata": {},
   "source": [
    "When designing the loss function, we assumed a non-linear readout of the layer of neurons. Let's take that idea further, and introduce a random readout of the layer. This idea is directly inspired by local errors described in <a href=\"https://www.frontiersin.org/articles/10.3389/fnins.2018.00608/full\">(Mostafa, Ramesh Cauwenberghs, 2018)</a>. Let's assume that these random weights are not trainable. Because this is a random readout, we can also play with the dimensionality of the layer of spiking neurons. For example, here the spiking network consists of Nout = 256 neurons, even though our output is a scalar.\n"
   ]
  },
  {
   "cell_type": "code",
   "execution_count": null,
   "metadata": {},
   "outputs": [],
   "source": [
    "Nout = 256\n",
    "layer1 = LIFDenseLayer(in_channels=Nin, out_channels=Nout).to(device)\n",
    "mse_loss = torch.nn.MSELoss()\n",
    "opt = torch.optim.Adam(layer1.parameters(), lr=1e-5, betas=[0., .95]) #lr is the learning rate \n",
    "random_readout = nn.Linear(Nout,1).to(device)"
   ]
  },
  {
   "cell_type": "markdown",
   "metadata": {},
   "source": [
    "Note that because we do not introduce the random_readout parameters to in the optimizer, they will not be trained. For DCLL this is exactly what we want, and a deeper motivation for this can be found in <a href=\"https://www.frontiersin.org/articles/10.3389/fnins.2018.00608/full\">(Mostafa, Ramesh Cauwenberghs, 2018)</a> and <a href=\"https://arxiv.org/abs/1811.10766\">(Kaiser, Mostafa, Neftci, 2019)</a>."
   ]
  },
  {
   "cell_type": "code",
   "execution_count": null,
   "metadata": {},
   "outputs": [],
   "source": [
    "for e in range(300):    \n",
    "    loss_hist = 0\n",
    "    for n in range(T):\n",
    "        state, u = layer1.forward(Sin[n].unsqueeze(0))\n",
    "        #This is where we introduce the random readout\n",
    "        loss_t = mse_loss(random_readout(F.sigmoid(u)),yhat_t[n])\n",
    "        loss_t.backward()\n",
    "        opt.step()\n",
    "        opt.zero_grad()\n",
    "        loss_hist += loss_t\n",
    "    if (e%20)==0: print(e, loss_hist)"
   ]
  },
  {
   "cell_type": "code",
   "execution_count": null,
   "metadata": {},
   "outputs": [],
   "source": [
    "Sprobe = np.empty([T,Nout])\n",
    "readProbe = np.empty([T,1])\n",
    "for n in range(T):\n",
    "    state, u = layer1.forward(Sin[n])\n",
    "    Sprobe[n] = state.S.clone().data.cpu().numpy()\n",
    "    readProbe[n] = random_readout(F.sigmoid(u)).data.cpu().numpy()\n",
    "    \n",
    "ax1, ax2 = snn_utils.plotLIF(U=readProbe, S=Sprobe)"
   ]
  },
  {
   "cell_type": "markdown",
   "metadata": {},
   "source": [
    "You can see that the spiking neural netowrk activity appears now random and unrelated to the task. This is normal and due to the random projection (random_readout). The readout in the bottom panel however follows the target yhat."
   ]
  },
  {
   "cell_type": "markdown",
   "metadata": {},
   "source": [
    "Let's compare the target and the readout:"
   ]
  },
  {
   "cell_type": "code",
   "execution_count": null,
   "metadata": {},
   "outputs": [],
   "source": [
    "plt.plot(readProbe, linewidth=3)\n",
    "plt.plot(yhat, linewidth=3,alpha=.5)\n",
    "#plt.plot(F.sigmoid(torch.Tensor(Uprobe)).data.numpy()) #Plots also results without random readout"
   ]
  },
  {
   "cell_type": "markdown",
   "metadata": {},
   "source": [
    "Congratulations, you've built your first DCLL layer! With DCLL, the layer are simply stacked onto each other. When stacking, it is important to control the firing rate of the inputs and the outputs, and this can be done using regularization. The article <a href=\"https://arxiv.org/abs/1811.10766\">(Kaiser, Mostafa, Neftci, 2019)</a> includes this and other bells and whistles, such as convolutional layers, regularization, batch trainining, random neuron time constants, learning rate adjustment to improve performance on real classification tasks, but the basics are here. In the following, the tutorial will describe how to overcome the continuous readout."
   ]
  },
  {
   "cell_type": "markdown",
   "metadata": {},
   "source": [
    "## Optional: Using custom activation layers and spiking readouts"
   ]
  },
  {
   "cell_type": "markdown",
   "metadata": {},
   "source": [
    "To have a fully spiking implementation without continuous readouts, we need one more step. For this we replace the sigmoid function with a custom sign function whose gradient (backward) function is well defined. In pytorch this is how its done:"
   ]
  },
  {
   "cell_type": "code",
   "execution_count": null,
   "metadata": {},
   "outputs": [],
   "source": [
    "class SmoothStep(torch.autograd.Function):\n",
    "    '''\n",
    "    Modified from: https://pytorch.org/tutorials/beginner/examples_autograd/two_layer_net_custom_function.html\n",
    "    '''\n",
    "    @staticmethod\n",
    "    def forward(aux, x):\n",
    "        aux.save_for_backward(x)\n",
    "        return (x >= 0).float()\n",
    "\n",
    "    def backward(aux, grad_output):\n",
    "        #grad_input = grad_output.clone()        \n",
    "        input, = aux.saved_tensors\n",
    "        grad_input = grad_output.clone()\n",
    "        grad_input[input <= -.5] = 0\n",
    "        grad_input[input > .5] = 0\n",
    "        return grad_input\n",
    "    \n",
    "smooth_step = SmoothStep().apply"
   ]
  },
  {
   "cell_type": "markdown",
   "metadata": {},
   "source": [
    "In this case, the gradient is the one of the piecewise linear function. Note that many functions are possible here. The piecewise one works well and is easy to compute. It was used in <a href=\"https://www.frontiersin.org/articles/10.3389/fnins.2017.00324/full\">(Neftci *et al.* 2017)</a>. See <a href=\"https://arxiv.org/abs/1901.09948\">(Neftci, Mostafa, Zenke, 2019)</a> for a list of other possibilities."
   ]
  },
  {
   "cell_type": "markdown",
   "metadata": {},
   "source": [
    "Let's try it out, the following code remains unchanged:"
   ]
  },
  {
   "cell_type": "code",
   "execution_count": null,
   "metadata": {},
   "outputs": [],
   "source": [
    "Nout = 256\n",
    "layer1 = LIFDenseLayer(in_channels=Nin, out_channels=Nout).to(device)\n",
    "mse_loss = torch.nn.MSELoss()\n",
    "opt = torch.optim.Adam(layer1.parameters(), lr=1e-5, betas=[0., .95]) #lr is the learning rate \n",
    "random_readout = nn.Linear(Nout,1).to(device)"
   ]
  },
  {
   "cell_type": "markdown",
   "metadata": {},
   "source": [
    "We introduce the smooth step here:"
   ]
  },
  {
   "cell_type": "code",
   "execution_count": null,
   "metadata": {},
   "outputs": [],
   "source": [
    "for e in range(300):    \n",
    "    loss_hist = 0\n",
    "    for n in range(T):\n",
    "        state, u = layer1.forward(Sin[n].unsqueeze(0))\n",
    "        #This is where we introduce the smooth step\n",
    "        loss_t = mse_loss(random_readout(smooth_step(u)),yhat_t[n])\n",
    "        loss_t.backward()\n",
    "        opt.step()\n",
    "        opt.zero_grad()\n",
    "        loss_hist += loss_t\n",
    "    if (e%20)==0: print(e, loss_hist)"
   ]
  },
  {
   "cell_type": "code",
   "execution_count": null,
   "metadata": {},
   "outputs": [],
   "source": [
    "Sprobe = np.empty([T,Nout])\n",
    "readProbe = np.empty([T,1])\n",
    "\n",
    "for n in range(T):\n",
    "    state, u = layer1.forward(Sin[n])\n",
    "    Sprobe[n] = state.S.clone().data.cpu().numpy()\n",
    "    readProbe[n] = random_readout(smooth_step(u)).data.cpu().numpy()\n",
    "    \n",
    "ax1, ax2 = dclllib.plotLIF(U=readProbe, S=Sprobe)"
   ]
  },
  {
   "cell_type": "code",
   "execution_count": null,
   "metadata": {},
   "outputs": [],
   "source": [
    "plt.plot(readProbe, linewidth=3)\n",
    "plt.plot(yhat, linewidth=3,alpha=.5)\n",
    "#plt.plot(F.sigmoid(torch.Tensor(Uprobe)).data.numpy())"
   ]
  },
  {
   "cell_type": "markdown",
   "metadata": {},
   "source": [
    "Almost as good as before! Although we used autodifferentiation to compute the gradients, we know from the theory that the function necessary to compute them are local and do not require any special machinery. "
   ]
  },
  {
   "cell_type": "markdown",
   "metadata": {},
   "source": [
    "## Optional: Using Random, Sign-concordant Weights for the Back-Propagation"
   ]
  },
  {
   "cell_type": "markdown",
   "metadata": {},
   "source": [
    "We implicitely used symmetric weights for backpropagating the errors throught the readout layer. As several work would argue, symmetric weights are not biologically plausible, and cannot be easily implemented in analog hardware. A simple way to overcome this problem is to propagate through a fixed random matrix. This is the idea behind feedback alignment <a href=\"https://www.nature.com/articles/ncomms13276\">(Lillicrap et al. 2016)</a>. However, in our case we can do better. Although symmetric weights are bio and analog hardware incompatible, the existence of the symmetric connections and their sign (excitatory or inhibitory) are compatible. This means we can backpropagate through a random, fixed matrix initialized using the forward matrix of the readout layer. Furthermore, we can set backward weights to be approximately equal to the forward ones. In analog hardware, mismatch in weights configured equally is typically around 25% <a href=\"https://www.mitpressjournals.org/doi/pdf/10.1162/NECO_a_00182\">(Neftci et al. 2011)</a>. To be pessimistic, let's used 50% instead. "
   ]
  },
  {
   "cell_type": "markdown",
   "metadata": {},
   "source": [
    "We can implement our readout layer using a modification of the feed alignment method. The following code has been modified from <a href=\"https://github.com/L0SG/feedback-alignment-pytorch/\"/>https://github.com/L0SG/feedback-alignment-pytorch</a>."
   ]
  },
  {
   "cell_type": "code",
   "execution_count": null,
   "metadata": {},
   "outputs": [],
   "source": [
    "class LinearFAFunction(torch.autograd.Function):\n",
    "    '''from https://github.com/L0SG/feedback-alignment-pytorch/'''\n",
    "    @staticmethod\n",
    "    # same as reference linear function, but with additional fa tensor for backward\n",
    "    def forward(context, input, weight, weight_fa, bias=None):\n",
    "        context.save_for_backward(input, weight, weight_fa, bias)\n",
    "        output = input.mm(weight.t())\n",
    "        if bias is not None:\n",
    "            output += bias.unsqueeze(0).expand_as(output)\n",
    "        return output\n",
    "\n",
    "    @staticmethod\n",
    "    def backward(context, grad_output):\n",
    "        input, weight, weight_fa, bias = context.saved_tensors\n",
    "        grad_input = grad_weight = grad_weight_fa = grad_bias = None\n",
    "\n",
    "        if context.needs_input_grad[0]:\n",
    "            # all of the logic of FA resides in this one line\n",
    "            # calculate the gradient of input with fixed fa tensor, rather than the \"correct\" model weight\n",
    "            grad_input = grad_output.mm(weight_fa)\n",
    "        if context.needs_input_grad[1]:\n",
    "            # grad for weight with FA'ed grad_output from downstream layer\n",
    "            # it is same with original linear function\n",
    "            grad_weight = grad_output.t().mm(input)\n",
    "        if bias is not None and context.needs_input_grad[3]:\n",
    "            grad_bias = grad_output.sum(0).squeeze(0)\n",
    "\n",
    "        return grad_input, grad_weight, grad_weight_fa, grad_bias\n",
    "\n",
    "class FALinear(nn.Module):\n",
    "    '''from https://github.com/L0SG/feedback-alignment-pytorch/'''\n",
    "    def __init__(self, input_features, output_features, bias=True):\n",
    "        super(FALinear, self).__init__()\n",
    "        self.input_features = input_features\n",
    "        self.output_features = output_features\n",
    "\n",
    "        # weight and bias for forward pass\n",
    "        self.weight = nn.Parameter(torch.Tensor(output_features, input_features))\n",
    "        if bias:\n",
    "            self.bias = nn.Parameter(torch.Tensor(output_features))\n",
    "        else:\n",
    "            self.register_parameter('bias', None)\n",
    "\n",
    "        # fixed random weight and bias for FA backward pass does not need gradient\n",
    "        self.weight_fa = torch.nn.Parameter(torch.FloatTensor(output_features, input_features), requires_grad=False)\n",
    "        self.reset_lc_parameters(self)\n",
    "\n",
    "    def forward(self, input):\n",
    "        return LinearFAFunction.apply(input, self.weight, self.weight_fa, self.bias)\n",
    "    \n",
    "    @staticmethod\n",
    "    def reset_lc_parameters(layer):\n",
    "        #Random initialization with 50% variation is done here\n",
    "        if hasattr(layer, 'weight_fa'):\n",
    "            layer.weight_fa.data.normal_(1, .5)\n",
    "            layer.weight_fa.data[layer.weight_fa.data<0] = 0\n",
    "            layer.weight_fa.data[:] *= layer.weight.data[:]\n",
    "        stdv = 1. / np.sqrt(layer.weight.size(1))\n",
    "        layer.weight.data.uniform_(-stdv, stdv)\n",
    "        if layer.bias is not None:\n",
    "            layer.bias.data.uniform_(-stdv, stdv)"
   ]
  },
  {
   "cell_type": "markdown",
   "metadata": {},
   "source": [
    "We now modify the code above accordingly:"
   ]
  },
  {
   "cell_type": "code",
   "execution_count": null,
   "metadata": {},
   "outputs": [],
   "source": [
    "Nout = 256\n",
    "layer1 = LIFDenseLayer(in_channels=Nin, out_channels=Nout).to(device)\n",
    "mse_loss = torch.nn.MSELoss()\n",
    "opt = torch.optim.Adam(layer1.parameters(), lr=1e-5, betas=[0., .95]) #lr is the learning rate \n",
    "random_readout = FALinear(Nout,1).to(device)"
   ]
  },
  {
   "cell_type": "markdown",
   "metadata": {},
   "source": [
    "We introduce the smooth step here:"
   ]
  },
  {
   "cell_type": "code",
   "execution_count": null,
   "metadata": {},
   "outputs": [],
   "source": [
    "for e in range(300):    \n",
    "    loss_hist = 0\n",
    "    for n in range(T):\n",
    "        state, u = layer1(Sin[n].unsqueeze(0))\n",
    "        #This is where we introduce the smooth step\n",
    "        loss_t = mse_loss(random_readout(smooth_step(u)),yhat_t[n])\n",
    "        loss_t.backward()\n",
    "        opt.step()\n",
    "        opt.zero_grad()\n",
    "        loss_hist += loss_t\n",
    "    if (e%20)==0: print(e, loss_hist)"
   ]
  }
 ],
 "metadata": {
  "kernelspec": {
   "display_name": "Python 3",
   "language": "python",
   "name": "python3"
  },
  "language_info": {
   "codemirror_mode": {
    "name": "ipython",
    "version": 3
   },
   "file_extension": ".py",
   "mimetype": "text/x-python",
   "name": "python",
   "nbconvert_exporter": "python",
   "pygments_lexer": "ipython3",
   "version": "3.7.4"
  }
 },
 "nbformat": 4,
 "nbformat_minor": 2
}
